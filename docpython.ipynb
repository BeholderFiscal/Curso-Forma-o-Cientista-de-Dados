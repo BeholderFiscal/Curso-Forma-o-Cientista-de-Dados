{
 "cells": [
  {
   "cell_type": "code",
   "execution_count": 73,
   "id": "0e15b03d",
   "metadata": {},
   "outputs": [
    {
     "name": "stdout",
     "output_type": "stream",
     "text": [
      "Escreva aqui o primeiro número: 2\n",
      "Escreva aqui o segundo número: 2\n",
      "Escreva a operação: 1. soma 2. subtração 3. multiplicação 4. divisão 2\n",
      "0.0\n"
     ]
    }
   ],
   "source": [
    "def calculadora(x, y, operador):\n",
    "    x = float(x)\n",
    "    y = float(y)\n",
    "    operador = operador\n",
    "    \n",
    "    if operador == '1':\n",
    "        print(x+y)\n",
    "    elif operador == '2':\n",
    "        print(x-y)\n",
    "    elif operador == '3':\n",
    "        print(x*y)\n",
    "    elif operador == '4':\n",
    "        print(x/y)\n",
    "        \n",
    "    else:\n",
    "        print('Operação inválida')\n",
    "    \n",
    "numero1 = input('Escreva aqui o primeiro número: ')\n",
    "numero2 = input('Escreva aqui o segundo número: ')\n",
    "operacao = input('Escreva a operação: 1. soma 2. subtração 3. multiplicação 4. divisão ')\n",
    "\n",
    "calculo = calculadora(numero1,numero2,operacao)\n"
   ]
  },
  {
   "cell_type": "code",
   "execution_count": 76,
   "id": "f56a290f",
   "metadata": {},
   "outputs": [
    {
     "name": "stdout",
     "output_type": "stream",
     "text": [
      "1\n",
      "2\n",
      "3\n",
      "4\n",
      "5\n"
     ]
    }
   ],
   "source": [
    "from time import sleep\n",
    "\n",
    "contador = 1\n",
    "\n",
    "while contador <=5:\n",
    "    print(contador)\n",
    "    sleep(1)\n",
    "    contador += 1\n"
   ]
  },
  {
   "cell_type": "code",
   "execution_count": 78,
   "id": "08f67131",
   "metadata": {},
   "outputs": [
    {
     "name": "stdout",
     "output_type": "stream",
     "text": [
      "[1, 2, 3, '4', True]\n"
     ]
    }
   ],
   "source": [
    "lista = [1,2,3, \"4\", True]\n",
    "print(lista)"
   ]
  },
  {
   "cell_type": "code",
   "execution_count": 79,
   "id": "85bb7876",
   "metadata": {},
   "outputs": [
    {
     "name": "stdout",
     "output_type": "stream",
     "text": [
      "[0, 1, 2, 3, 4, 5]\n"
     ]
    }
   ],
   "source": [
    "lista = list(range(0,6))\n",
    "print(lista)"
   ]
  }
 ],
 "metadata": {
  "kernelspec": {
   "display_name": "Python 3 (ipykernel)",
   "language": "python",
   "name": "python3"
  },
  "language_info": {
   "codemirror_mode": {
    "name": "ipython",
    "version": 3
   },
   "file_extension": ".py",
   "mimetype": "text/x-python",
   "name": "python",
   "nbconvert_exporter": "python",
   "pygments_lexer": "ipython3",
   "version": "3.10.9"
  }
 },
 "nbformat": 4,
 "nbformat_minor": 5
}
