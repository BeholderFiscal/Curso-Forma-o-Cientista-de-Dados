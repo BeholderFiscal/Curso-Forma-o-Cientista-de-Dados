{
 "cells": [
  {
   "cell_type": "code",
   "execution_count": 73,
   "id": "0e15b03d",
   "metadata": {},
   "outputs": [
    {
     "name": "stdout",
     "output_type": "stream",
     "text": [
      "Escreva aqui o primeiro número: 2\n",
      "Escreva aqui o segundo número: 2\n",
      "Escreva a operação: 1. soma 2. subtração 3. multiplicação 4. divisão 2\n",
      "0.0\n"
     ]
    }
   ],
   "source": [
    "def calculadora(x, y, operador):\n",
    "    x = float(x)\n",
    "    y = float(y)\n",
    "    operador = operador\n",
    "    \n",
    "    if operador == '1':\n",
    "        print(x+y)\n",
    "    elif operador == '2':\n",
    "        print(x-y)\n",
    "    elif operador == '3':\n",
    "        print(x*y)\n",
    "    elif operador == '4':\n",
    "        print(x/y)\n",
    "        \n",
    "    else:\n",
    "        print('Operação inválida')\n",
    "    \n",
    "numero1 = input('Escreva aqui o primeiro número: ')\n",
    "numero2 = input('Escreva aqui o segundo número: ')\n",
    "operacao = input('Escreva a operação: 1. soma 2. subtração 3. multiplicação 4. divisão ')\n",
    "\n",
    "calculo = calculadora(numero1,numero2,operacao)\n"
   ]
  },
  {
   "cell_type": "code",
   "execution_count": 76,
   "id": "f56a290f",
   "metadata": {},
   "outputs": [
    {
     "name": "stdout",
     "output_type": "stream",
     "text": [
      "1\n",
      "2\n",
      "3\n",
      "4\n",
      "5\n"
     ]
    }
   ],
   "source": [
    "from time import sleep\n",
    "\n",
    "contador = 1\n",
    "\n",
    "while contador <=5:\n",
    "    print(contador)\n",
    "    sleep(1)\n",
    "    contador += 1\n"
   ]
  },
  {
   "cell_type": "code",
   "execution_count": 78,
   "id": "08f67131",
   "metadata": {},
   "outputs": [
    {
     "name": "stdout",
     "output_type": "stream",
     "text": [
      "[1, 2, 3, '4', True]\n"
     ]
    }
   ],
   "source": [
    "lista = [1,2,3, \"4\", True]\n",
    "print(lista)"
   ]
  },
  {
   "cell_type": "code",
   "execution_count": 2,
   "id": "85bb7876",
   "metadata": {},
   "outputs": [
    {
     "name": "stdout",
     "output_type": "stream",
     "text": [
      "[0, 1, 2, 3, 4, 5]\n"
     ]
    }
   ],
   "source": [
    "lista = list(range(0,6))\n",
    "print(lista)"
   ]
  },
  {
   "cell_type": "code",
   "execution_count": 4,
   "id": "75f477cf",
   "metadata": {},
   "outputs": [
    {
     "name": "stdout",
     "output_type": "stream",
     "text": [
      "[1 2 3 4 5]\n"
     ]
    },
    {
     "data": {
      "text/plain": [
       "numpy.ndarray"
      ]
     },
     "execution_count": 4,
     "metadata": {},
     "output_type": "execute_result"
    }
   ],
   "source": [
    "#numpy\n",
    "\n",
    "import numpy as np\n",
    "\n",
    "#criando minha primeira array\n",
    "um = np.array([1,2,3,4,5])\n",
    "print(um)\n",
    "type(um)\n"
   ]
  },
  {
   "cell_type": "code",
   "execution_count": 10,
   "id": "87aebdf6",
   "metadata": {},
   "outputs": [
    {
     "data": {
      "text/plain": [
       "array([1., 2., 3., 4.])"
      ]
     },
     "metadata": {},
     "output_type": "display_data"
    },
    {
     "name": "stdout",
     "output_type": "stream",
     "text": [
      "<class 'numpy.ndarray'>\n"
     ]
    },
    {
     "data": {
      "text/plain": [
       "array([1, 2, 3, 4])"
      ]
     },
     "metadata": {},
     "output_type": "display_data"
    },
    {
     "name": "stdout",
     "output_type": "stream",
     "text": [
      "<class 'numpy.ndarray'>\n"
     ]
    }
   ],
   "source": [
    "mtfloat = np.array([1,2,3,4], dtype = np.float64)\n",
    "display(mtfloat)\n",
    "print(type(mtfloat))\n",
    "\n",
    "mtint = np.array([1,2,3,4], dtype = np.int32)\n",
    "display(mtint)\n",
    "print(type(mtint))"
   ]
  },
  {
   "cell_type": "code",
   "execution_count": 13,
   "id": "24d52f25",
   "metadata": {},
   "outputs": [
    {
     "name": "stdout",
     "output_type": "stream",
     "text": [
      "[ 1.4      3.6     -5.1      9.42     4.99999]\n",
      "[ 1  3 -5  9  4]\n"
     ]
    }
   ],
   "source": [
    "#como alterar tipos de dados de arrays\n",
    "mtnew = np.array([1.4, 3.6, -5.1, 9.42, 4.99999])\n",
    "print(mtnew)\n",
    "mtnewint = mtnew.astype(np.int32)\n",
    "print(mtnewint)"
   ]
  },
  {
   "cell_type": "code",
   "execution_count": 15,
   "id": "13efa5fb",
   "metadata": {},
   "outputs": [
    {
     "data": {
      "text/plain": [
       "array([[ 1,  2,  3,  4],\n",
       "       [ 5,  6,  7,  8],\n",
       "       [ 9, 10, 11, 12]])"
      ]
     },
     "metadata": {},
     "output_type": "display_data"
    }
   ],
   "source": [
    "#elementos do numpy com mais de uma dimensão\n",
    "\n",
    "mt7 = np.array([[1,2,3,4], [5,6,7,8], [9,10,11,12]])\n",
    "display(mt7)"
   ]
  },
  {
   "cell_type": "code",
   "execution_count": 20,
   "id": "d00183e7",
   "metadata": {},
   "outputs": [
    {
     "name": "stdout",
     "output_type": "stream",
     "text": [
      "[[-1142172112         503]\n",
      " [          0           0]\n",
      " [          1           0]]\n",
      "------\n",
      "[[0 0 0]\n",
      " [0 0 0]\n",
      " [0 0 0]\n",
      " [0 0 0]]\n",
      "------\n",
      "[[1 1 1]\n",
      " [1 1 1]\n",
      " [1 1 1]\n",
      " [1 1 1]]\n",
      "------\n",
      "[[1. 0. 0. 0. 0.]\n",
      " [0. 1. 0. 0. 0.]\n",
      " [0. 0. 1. 0. 0.]\n",
      " [0. 0. 0. 1. 0.]\n",
      " [0. 0. 0. 0. 1.]]\n"
     ]
    }
   ],
   "source": [
    "#criar arrays vazios \n",
    "\n",
    "#cria um array de duas dimensões com valores vazios\n",
    "vazio = np.empty([3,2], dtype = np.int32)\n",
    "print(vazio)\n",
    "print('------')\n",
    "#criar uma matriz 4x3 repleta de zeros\n",
    "zeros = np.zeros([4, 3], dtype = np.int32)\n",
    "print(zeros)\n",
    "print('------')\n",
    "# também pode ser repleto de 1\n",
    "uns = np.ones([4,3], dtype = np.int32)\n",
    "print(uns)\n",
    "print('------')\n",
    "#criar uma matriz quadrada, onde a diagonal principal vai ter 1, e os outros valores vão ser zeros\n",
    "diagonal = np.eye(5)\n",
    "print(diagonal)"
   ]
  },
  {
   "cell_type": "code",
   "execution_count": 23,
   "id": "2ba71bfe",
   "metadata": {},
   "outputs": [
    {
     "name": "stdout",
     "output_type": "stream",
     "text": [
      "[0.66167829 0.24331742 0.55108974 0.4122444  0.9517532 ]\n",
      "-----\n",
      "[0.56145789 0.09143687 0.95545044 2.30899189 1.26409492]\n",
      "-----\n",
      "[[6.56812003 9.81762035 7.12101655 8.87508813]\n",
      " [2.41277167 5.0077283  8.56677745 4.53956187]\n",
      " [0.49551991 0.20350118 2.17563048 8.86895612]]\n",
      "<class 'numpy.ndarray'>\n",
      "-----\n"
     ]
    }
   ],
   "source": [
    "#Criando valores aleatórios, entre zero e um\n",
    "aleatorio = np.random.random((5))\n",
    "print(aleatorio)\n",
    "print('-----')\n",
    "#Criando valores aleatórios de distribuição normal, que aceite valores negativos\n",
    "aleatorio1 = np.random.randn((5))\n",
    "print(aleatorio1)\n",
    "print('-----')\n",
    "#Criando uma matriz com números multiplicados por 10\n",
    "aleatorio2 = (10*np.random.random((3,4)))\n",
    "print(aleatorio2)\n",
    "print(type(aleatorio2))\n",
    "print('-----')"
   ]
  },
  {
   "cell_type": "code",
   "execution_count": 37,
   "id": "c83d528d",
   "metadata": {},
   "outputs": [
    {
     "name": "stdout",
     "output_type": "stream",
     "text": [
      "[0.51182162 0.9504637  0.14415961]\n",
      "[[8 9 2 3]\n",
      " [8 4 2 8]\n",
      " [2 4 6 5]]\n"
     ]
    }
   ],
   "source": [
    "#Gerando aleatórios com sementes\n",
    "#Sementes são números aleatórios, criados para testar ddados, mas que eles se repetem\n",
    "\n",
    "seed = np.random.default_rng(1)\n",
    "aleatorio3 = seed.random(3)\n",
    "print(aleatorio3)\n",
    "\n",
    "#Gerando inteiros, com limite de 0 a 10\n",
    "aleatorio4 = seed.integers(10, size=(3,4))\n",
    "print(aleatorio4)"
   ]
  },
  {
   "cell_type": "code",
   "execution_count": 39,
   "id": "b8f3681c",
   "metadata": {},
   "outputs": [
    {
     "name": "stdout",
     "output_type": "stream",
     "text": [
      "[1 2 3 4 5]\n"
     ]
    }
   ],
   "source": [
    "#O método unique, remove repetições\n",
    "unico = np.array([1,2,3,4,5,3,2,1])\n",
    "unico = np.unique(unico)\n",
    "print(unico)"
   ]
  },
  {
   "cell_type": "code",
   "execution_count": 45,
   "id": "3d4a7436",
   "metadata": {},
   "outputs": [
    {
     "name": "stdout",
     "output_type": "stream",
     "text": [
      "[[ 1  2  3  4]\n",
      " [ 5  6  7  8]\n",
      " [ 9 10 11 12]]\n",
      "11\n"
     ]
    }
   ],
   "source": [
    "#ver elementos específicos de uma matriz\n",
    "\n",
    "tres = np.array([[1,2,3,4], [5,6,7,8],[9,10,11,12]])\n",
    "print(tres)\n",
    "print(tres[2] [2])"
   ]
  },
  {
   "cell_type": "code",
   "execution_count": 52,
   "id": "41854c0e",
   "metadata": {},
   "outputs": [
    {
     "name": "stdout",
     "output_type": "stream",
     "text": [
      "12\n",
      "1\n",
      "78\n",
      "6.5\n",
      "3.452052529534663\n"
     ]
    }
   ],
   "source": [
    "#funções matemáticas de uma matriz\n",
    "#imprime o valor máximo\n",
    "print(tres.max())\n",
    "#imprime o valor mínimo\n",
    "print(tres.min())\n",
    "#imprime a soma dos valores\n",
    "print(tres.sum())\n",
    "#imprime o valor da média\n",
    "print(tres.mean())\n",
    "#imprime o valor do desvio padrão\n",
    "print(tres.std())"
   ]
  },
  {
   "cell_type": "code",
   "execution_count": 57,
   "id": "a97765af",
   "metadata": {},
   "outputs": [
    {
     "name": "stdout",
     "output_type": "stream",
     "text": [
      "2\n",
      "------\n",
      "[1 2]\n",
      "------\n",
      "[1 2 3 4]\n",
      "------\n",
      "[1 3]\n",
      "------\n",
      "[3 4 5]\n"
     ]
    }
   ],
   "source": [
    "#fazer slice de elementos array\n",
    "quatro = np.array([1,2,3,4,5])\n",
    "print(quatro[1])\n",
    "print('------')\n",
    "print(quatro[0:2])\n",
    "print('------')\n",
    "print(quatro[:4])\n",
    "print('------')\n",
    "print(quatro[:4:2])\n",
    "print('------')\n",
    "#mostra os 3 últimos elementos\n",
    "print(quatro[-3:])"
   ]
  },
  {
   "cell_type": "code",
   "execution_count": 66,
   "id": "7ab30898",
   "metadata": {},
   "outputs": [
    {
     "name": "stdout",
     "output_type": "stream",
     "text": [
      "[[ 2  4  6  5]\n",
      " [10  8  6  4]]\n",
      "------\n",
      "[1 4]\n"
     ]
    }
   ],
   "source": [
    "#Operações com arrays\n",
    "\n",
    "m1 = np.array([[1,2,3,4], [4,3,2,1]])\n",
    "m2 = np.array([[1,2,3,1],[6,5,4,3]])\n",
    "res1 = m1+m2\n",
    "print(res1)\n",
    "print('------')\n",
    "#As operações matemática funcionam mesmo se as matrizes tiverem tamanhos diferentes.\n",
    "m3 = np.array([[1,2], [3,4], [5,6]])\n",
    "m4 = np.array([1,2])\n",
    "res2 = (m4*m3[0])\n",
    "print(res2)\n"
   ]
  },
  {
   "cell_type": "code",
   "execution_count": 83,
   "id": "7cb1824a",
   "metadata": {},
   "outputs": [
    {
     "name": "stdout",
     "output_type": "stream",
     "text": [
      "[[ 1.64059381 -0.29577709  0.17408411]\n",
      " [ 0.6147765   0.03058675  1.34141312]\n",
      " [-0.78704318  0.06231452 -0.75886316]\n",
      " [-2.10328833 -0.73251763  0.46631066]]\n",
      "------\n",
      "[[ True False  True]\n",
      " [ True  True  True]\n",
      " [False  True False]\n",
      " [False False  True]]\n",
      "------\n",
      "[[ 1 -1  1]\n",
      " [ 1  1  1]\n",
      " [-1  1 -1]\n",
      " [-1 -1  1]]\n"
     ]
    }
   ],
   "source": [
    "#Criando expressões lógicas\n",
    "logica = np.random.randn(4,3)\n",
    "print(logica)\n",
    "print('------')\n",
    "x = (logica >0)\n",
    "print(x)\n",
    "print('------')\n",
    "z = np.where(logica >0, 1, -1)\n",
    "print(z)"
   ]
  }
 ],
 "metadata": {
  "kernelspec": {
   "display_name": "Python 3 (ipykernel)",
   "language": "python",
   "name": "python3"
  },
  "language_info": {
   "codemirror_mode": {
    "name": "ipython",
    "version": 3
   },
   "file_extension": ".py",
   "mimetype": "text/x-python",
   "name": "python",
   "nbconvert_exporter": "python",
   "pygments_lexer": "ipython3",
   "version": "3.10.9"
  }
 },
 "nbformat": 4,
 "nbformat_minor": 5
}
